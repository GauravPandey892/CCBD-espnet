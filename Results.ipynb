{
  "nbformat": 4,
  "nbformat_minor": 0,
  "metadata": {
    "colab": {
      "name": "Copy of (Finished) ESPNET_ON_TELUGU.ipynb",
      "provenance": [],
      "collapsed_sections": []
    },
    "kernelspec": {
      "name": "python3",
      "display_name": "Python 3"
    },
    "accelerator": "GPU"
  },
  "cells": [
    {
      "cell_type": "code",
      "metadata": {
        "id": "RMyTfrOAPQD2",
        "colab_type": "code",
        "colab": {
          "base_uri": "https://localhost:8080/",
          "height": 1000
        },
        "outputId": "db9ea6ca-aa04-4d83-f180-0a360de793af"
      },
      "source": [
        "# OS setup\n",
        "!cat /etc/os-release\n",
        "!apt-get install -qq bc tree sox\n",
        "\n",
        "# espnet setup\n",
        "!git clone --depth 5 https://github.com/espnet/espnet\n",
        "!pip install -q torch==1.5.1\n",
        "!cd espnet; pip install -q -e .\n",
        "\n",
        "# download pre-compiled warp-ctc and kaldi tools\n",
        "!espnet/utils/download_from_google_drive.sh \\\n",
        "    \"https://drive.google.com/open?id=13Y4tSygc8WtqzvAVGK_vRV9GlV7TRC0w\" espnet/tools tar.gz > /dev/null\n",
        "!cd espnet/tools/warp-ctc/pytorch_binding && \\\n",
        "    pip install -U dist/warpctc_pytorch-0.1.1-cp36-cp36m-linux_x86_64.whl\n",
        "\n",
        "# make dummy activate\n",
        "!mkdir -p espnet/tools/venv/bin && touch espnet/tools/venv/bin/activate\n",
        "!echo \"setup done.\""
      ],
      "execution_count": null,
      "outputs": [
        {
          "output_type": "stream",
          "text": [
            "NAME=\"Ubuntu\"\n",
            "VERSION=\"18.04.3 LTS (Bionic Beaver)\"\n",
            "ID=ubuntu\n",
            "ID_LIKE=debian\n",
            "PRETTY_NAME=\"Ubuntu 18.04.3 LTS\"\n",
            "VERSION_ID=\"18.04\"\n",
            "HOME_URL=\"https://www.ubuntu.com/\"\n",
            "SUPPORT_URL=\"https://help.ubuntu.com/\"\n",
            "BUG_REPORT_URL=\"https://bugs.launchpad.net/ubuntu/\"\n",
            "PRIVACY_POLICY_URL=\"https://www.ubuntu.com/legal/terms-and-policies/privacy-policy\"\n",
            "VERSION_CODENAME=bionic\n",
            "UBUNTU_CODENAME=bionic\n",
            "Selecting previously unselected package libopencore-amrnb0:amd64.\n",
            "(Reading database ... 144379 files and directories currently installed.)\n",
            "Preparing to unpack .../0-libopencore-amrnb0_0.1.3-2.1_amd64.deb ...\n",
            "Unpacking libopencore-amrnb0:amd64 (0.1.3-2.1) ...\n",
            "Selecting previously unselected package libopencore-amrwb0:amd64.\n",
            "Preparing to unpack .../1-libopencore-amrwb0_0.1.3-2.1_amd64.deb ...\n",
            "Unpacking libopencore-amrwb0:amd64 (0.1.3-2.1) ...\n",
            "Selecting previously unselected package libmagic-mgc.\n",
            "Preparing to unpack .../2-libmagic-mgc_1%3a5.32-2ubuntu0.4_amd64.deb ...\n",
            "Unpacking libmagic-mgc (1:5.32-2ubuntu0.4) ...\n",
            "Selecting previously unselected package libmagic1:amd64.\n",
            "Preparing to unpack .../3-libmagic1_1%3a5.32-2ubuntu0.4_amd64.deb ...\n",
            "Unpacking libmagic1:amd64 (1:5.32-2ubuntu0.4) ...\n",
            "Selecting previously unselected package bc.\n",
            "Preparing to unpack .../4-bc_1.07.1-2_amd64.deb ...\n",
            "Unpacking bc (1.07.1-2) ...\n",
            "Selecting previously unselected package libsox3:amd64.\n",
            "Preparing to unpack .../5-libsox3_14.4.2-3ubuntu0.18.04.1_amd64.deb ...\n",
            "Unpacking libsox3:amd64 (14.4.2-3ubuntu0.18.04.1) ...\n",
            "Selecting previously unselected package libsox-fmt-alsa:amd64.\n",
            "Preparing to unpack .../6-libsox-fmt-alsa_14.4.2-3ubuntu0.18.04.1_amd64.deb ...\n",
            "Unpacking libsox-fmt-alsa:amd64 (14.4.2-3ubuntu0.18.04.1) ...\n",
            "Selecting previously unselected package libsox-fmt-base:amd64.\n",
            "Preparing to unpack .../7-libsox-fmt-base_14.4.2-3ubuntu0.18.04.1_amd64.deb ...\n",
            "Unpacking libsox-fmt-base:amd64 (14.4.2-3ubuntu0.18.04.1) ...\n",
            "Selecting previously unselected package sox.\n",
            "Preparing to unpack .../8-sox_14.4.2-3ubuntu0.18.04.1_amd64.deb ...\n",
            "Unpacking sox (14.4.2-3ubuntu0.18.04.1) ...\n",
            "Selecting previously unselected package tree.\n",
            "Preparing to unpack .../9-tree_1.7.0-5_amd64.deb ...\n",
            "Unpacking tree (1.7.0-5) ...\n",
            "Setting up tree (1.7.0-5) ...\n",
            "Setting up libmagic-mgc (1:5.32-2ubuntu0.4) ...\n",
            "Setting up libmagic1:amd64 (1:5.32-2ubuntu0.4) ...\n",
            "Setting up libopencore-amrnb0:amd64 (0.1.3-2.1) ...\n",
            "Setting up bc (1.07.1-2) ...\n",
            "Setting up libopencore-amrwb0:amd64 (0.1.3-2.1) ...\n",
            "Setting up libsox3:amd64 (14.4.2-3ubuntu0.18.04.1) ...\n",
            "Setting up libsox-fmt-base:amd64 (14.4.2-3ubuntu0.18.04.1) ...\n",
            "Setting up libsox-fmt-alsa:amd64 (14.4.2-3ubuntu0.18.04.1) ...\n",
            "Setting up sox (14.4.2-3ubuntu0.18.04.1) ...\n",
            "Processing triggers for libc-bin (2.27-3ubuntu1) ...\n",
            "/sbin/ldconfig.real: /usr/local/lib/python3.6/dist-packages/ideep4py/lib/libmkldnn.so.0 is not a symbolic link\n",
            "\n",
            "Processing triggers for man-db (2.8.3-2ubuntu0.1) ...\n",
            "Processing triggers for mime-support (3.60ubuntu1) ...\n",
            "Cloning into 'espnet'...\n",
            "remote: Enumerating objects: 2586, done.\u001b[K\n",
            "remote: Counting objects: 100% (2586/2586), done.\u001b[K\n",
            "remote: Compressing objects: 100% (1871/1871), done.\u001b[K\n",
            "remote: Total 2586 (delta 875), reused 1447 (delta 453), pack-reused 0\u001b[K\n",
            "Receiving objects: 100% (2586/2586), 2.78 MiB | 11.16 MiB/s, done.\n",
            "Resolving deltas: 100% (875/875), done.\n",
            "\u001b[K     |████████████████████████████████| 51kB 2.6MB/s \n",
            "\u001b[K     |████████████████████████████████| 92kB 6.1MB/s \n",
            "\u001b[K     |████████████████████████████████| 174kB 13.8MB/s \n",
            "\u001b[K     |████████████████████████████████| 3.6MB 13.0MB/s \n",
            "\u001b[K     |████████████████████████████████| 890kB 41.4MB/s \n",
            "\u001b[K     |████████████████████████████████| 317kB 35.1MB/s \n",
            "\u001b[K     |████████████████████████████████| 1.6MB 61.3MB/s \n",
            "\u001b[K     |████████████████████████████████| 419kB 53.5MB/s \n",
            "\u001b[K     |████████████████████████████████| 1.0MB 58.5MB/s \n",
            "\u001b[K     |████████████████████████████████| 1.4MB 59.4MB/s \n",
            "\u001b[K     |████████████████████████████████| 276kB 57.2MB/s \n",
            "\u001b[K     |████████████████████████████████| 2.8MB 53.3MB/s \n",
            "\u001b[K     |████████████████████████████████| 245kB 52.8MB/s \n",
            "\u001b[K     |████████████████████████████████| 1.7MB 56.5MB/s \n",
            "\u001b[K     |████████████████████████████████| 1.2MB 52.9MB/s \n",
            "\u001b[K     |████████████████████████████████| 368kB 55.3MB/s \n",
            "\u001b[K     |████████████████████████████████| 788kB 49.5MB/s \n",
            "\u001b[K     |████████████████████████████████| 7.1MB 20.5MB/s \n",
            "\u001b[K     |████████████████████████████████| 3.1MB 62.4MB/s \n",
            "\u001b[K     |████████████████████████████████| 92kB 11.5MB/s \n",
            "\u001b[K     |████████████████████████████████| 460kB 51.5MB/s \n",
            "\u001b[K     |████████████████████████████████| 757kB 43.7MB/s \n",
            "\u001b[K     |████████████████████████████████| 184kB 58.5MB/s \n",
            "\u001b[K     |████████████████████████████████| 512kB 52.7MB/s \n",
            "\u001b[?25h  Building wheel for configargparse (setup.py) ... \u001b[?25l\u001b[?25hdone\n",
            "  Building wheel for chainer (setup.py) ... \u001b[?25l\u001b[?25hdone\n",
            "  Building wheel for librosa (setup.py) ... \u001b[?25l\u001b[?25hdone\n",
            "  Building wheel for pysptk (setup.py) ... \u001b[?25l\u001b[?25hdone\n",
            "  Building wheel for nltk (setup.py) ... \u001b[?25l\u001b[?25hdone\n",
            "  Building wheel for PyYAML (setup.py) ... \u001b[?25l\u001b[?25hdone\n",
            "  Building wheel for kaldiio (setup.py) ... \u001b[?25l\u001b[?25hdone\n",
            "  Building wheel for nnmnkwii (setup.py) ... \u001b[?25l\u001b[?25hdone\n",
            "  Building wheel for pystoi (setup.py) ... \u001b[?25l\u001b[?25hdone\n",
            "  Building wheel for bandmat (setup.py) ... \u001b[?25l\u001b[?25hdone\n",
            "  Building wheel for jaconv (setup.py) ... \u001b[?25l\u001b[?25hdone\n",
            "  Building wheel for simplejson (setup.py) ... \u001b[?25l\u001b[?25hdone\n",
            "  Building wheel for distance (setup.py) ... \u001b[?25l\u001b[?25hdone\n",
            "  Building wheel for clint (setup.py) ... \u001b[?25l\u001b[?25hdone\n",
            "  Building wheel for args (setup.py) ... \u001b[?25l\u001b[?25hdone\n",
            "\u001b[31mERROR: tensorflow 2.2.0 has requirement h5py<2.11.0,>=2.10.0, but you'll have h5py 2.9.0 which is incompatible.\u001b[0m\n",
            "\u001b[31mERROR: tensorflow 2.2.0 has requirement protobuf>=3.8.0, but you'll have protobuf 3.7.1 which is incompatible.\u001b[0m\n",
            "\u001b[31mERROR: tensorflow-hub 0.8.0 has requirement protobuf>=3.8.0, but you'll have protobuf 3.7.1 which is incompatible.\u001b[0m\n",
            "\u001b[31mERROR: tensorboardx 2.1 has requirement protobuf>=3.8.0, but you'll have protobuf 3.7.1 which is incompatible.\u001b[0m\n",
            "\u001b[31mERROR: languageflow 1.1.13a1 has requirement joblib==0.13.2, but you'll have joblib 0.15.1 which is incompatible.\u001b[0m\n",
            "\u001b[31mERROR: languageflow 1.1.13a1 has requirement scikit-learn==0.20.3, but you'll have scikit-learn 0.22.2.post1 which is incompatible.\u001b[0m\n",
            "\u001b[31mERROR: underthesea 1.1.17 has requirement nltk<3.5,>=3.4, but you'll have nltk 3.5 which is incompatible.\u001b[0m\n",
            "Downloading...\n",
            "From: https://drive.google.com/uc?id=13Y4tSygc8WtqzvAVGK_vRV9GlV7TRC0w\n",
            "To: /content/espnet/tools/b5sxYo.tar.gz\n",
            "694MB [00:08, 79.6MB/s]\n",
            "Processing ./dist/warpctc_pytorch-0.1.1-cp36-cp36m-linux_x86_64.whl\n",
            "Installing collected packages: warpctc-pytorch\n",
            "Successfully installed warpctc-pytorch-0.1.1\n",
            "setup done.\n"
          ],
          "name": "stdout"
        }
      ]
    },
    {
      "cell_type": "code",
      "metadata": {
        "id": "-Oj3Dfwu_97o",
        "colab_type": "code",
        "colab": {
          "base_uri": "https://localhost:8080/",
          "height": 125
        },
        "outputId": "7eeb6296-fff0-4e63-c4aa-d74dca9aa375"
      },
      "source": [
        "# Importing data\n",
        "from google.colab import drive\n",
        "drive.mount('/content/drive')"
      ],
      "execution_count": null,
      "outputs": [
        {
          "output_type": "stream",
          "text": [
            "Go to this URL in a browser: https://accounts.google.com/o/oauth2/auth?client_id=947318989803-6bn6qk8qdgf4n4g3pfee6491hc0brc4i.apps.googleusercontent.com&redirect_uri=urn%3aietf%3awg%3aoauth%3a2.0%3aoob&response_type=code&scope=email%20https%3a%2f%2fwww.googleapis.com%2fauth%2fdocs.test%20https%3a%2f%2fwww.googleapis.com%2fauth%2fdrive%20https%3a%2f%2fwww.googleapis.com%2fauth%2fdrive.photos.readonly%20https%3a%2f%2fwww.googleapis.com%2fauth%2fpeopleapi.readonly\n",
            "\n",
            "Enter your authorization code:\n",
            "··········\n",
            "Mounted at /content/drive\n"
          ],
          "name": "stdout"
        }
      ]
    },
    {
      "cell_type": "code",
      "metadata": {
        "id": "2vSzbHmdCE5v",
        "colab_type": "code",
        "colab": {}
      },
      "source": [
        "dir_path = \"/content/espnet/egs/telugu/asr1\"\n",
        "\n",
        "#Based on directory structure you may need to change espnet_zip_path, telugu_test_zip, telegu_train_zip\n",
        "espnet_zip_path = \"/content/drive/My Drive/telugu/telugu_espnet_data.zip\"\n",
        "telugu_test_zip = \"/content/drive/My Drive/telugu/te-in-Test.zip\"\n",
        "telugu_train_zip = \"/content/drive/My Drive/telugu/te-in-Train.zip\"\n",
        "\n",
        "# Making the required folders\n",
        "!mkdir \"/content/espnet/egs/telugu\"\n",
        "!mkdir \"/content/espnet/egs/telugu/asr1\"\n",
        "!mkdir \"/content/espnet/egs/telugu/asr1/wavdata\"\n",
        "!mkdir \"/content/espnet/egs/telugu/asr1/wavdata/an4\"\n",
        "!mkdir \"/content/espnet/egs/telugu/asr1/filterbank\"\n",
        "\n",
        "# Unzip all the files provided by maam\n",
        "!unzip \"$espnet_zip_path\" -d \"$dir_path\"\n",
        "# Unzip the audio(wav) dataset\n",
        "!unzip \"$telugu_test_zip\" -d \"$dir_path/wavdata/an4\"\n",
        "!unzip \"$telugu_train_zip\" -d \"$dir_path/wavdata/an4\""
      ],
      "execution_count": null,
      "outputs": []
    },
    {
      "cell_type": "code",
      "metadata": {
        "id": "2sIeblUXep3W",
        "colab_type": "code",
        "colab": {
          "base_uri": "https://localhost:8080/",
          "height": 87
        },
        "outputId": "aa208c02-d970-46d6-ac21-ac69d4426483"
      },
      "source": [
        "pip install numba==0.49.0\n"
      ],
      "execution_count": null,
      "outputs": [
        {
          "output_type": "stream",
          "text": [
            "Requirement already satisfied: numba==0.49.0 in /usr/local/lib/python3.6/dist-packages (0.49.0)\n",
            "Requirement already satisfied: numpy>=1.15 in /usr/local/lib/python3.6/dist-packages (from numba==0.49.0) (1.18.5)\n",
            "Requirement already satisfied: llvmlite<=0.33.0.dev0,>=0.31.0.dev0 in /usr/local/lib/python3.6/dist-packages (from numba==0.49.0) (0.31.0)\n",
            "Requirement already satisfied: setuptools in /usr/local/lib/python3.6/dist-packages (from numba==0.49.0) (47.3.1)\n"
          ],
          "name": "stdout"
        }
      ]
    },
    {
      "cell_type": "code",
      "metadata": {
        "id": "WMYS91AnBJvZ",
        "colab_type": "code",
        "colab": {}
      },
      "source": [
        "\n",
        "import os\n",
        "os.chdir(\"/content/espnet/tools\")\n",
        "!./install_chainer_ctc.sh"
      ],
      "execution_count": null,
      "outputs": []
    },
    {
      "cell_type": "code",
      "metadata": {
        "id": "hYpvhUlRSPJe",
        "colab_type": "code",
        "colab": {
          "base_uri": "https://localhost:8080/",
          "height": 122
        },
        "outputId": "2cce5c58-9e41-48fa-dad5-b48e871f5394"
      },
      "source": [
        "import os\n",
        "os.chdir(\"/content/espnet/egs/telugu/asr1\")\n",
        "\n",
        "\n",
        "# check files\n",
        "!tree -L 1"
      ],
      "execution_count": null,
      "outputs": [
        {
          "output_type": "stream",
          "text": [
            ".\n",
            "├── filterbank\n",
            "├── telugu_espnet_data\n",
            "└── wavdata\n",
            "\n",
            "3 directories, 0 files\n"
          ],
          "name": "stdout"
        }
      ]
    },
    {
      "cell_type": "code",
      "metadata": {
        "id": "9YX1Sv3nSUH7",
        "colab_type": "code",
        "colab": {}
      },
      "source": [
        "!mv telugu_espnet_data/* \"./\"\n",
        "!chmod 755 run.sh\n",
        "!sed -i -e 's/\\r$//' run.sh\n",
        "!ln -s ../../../tools/kaldi/egs/wsj/s5/steps steps\n",
        "!ln -s ../../../tools/kaldi/egs/wsj/s5/utils utils"
      ],
      "execution_count": null,
      "outputs": []
    },
    {
      "cell_type": "code",
      "metadata": {
        "id": "dnCZwmg5Sxh4",
        "colab_type": "code",
        "colab": {
          "base_uri": "https://localhost:8080/",
          "height": 494
        },
        "outputId": "488aca9c-c690-4832-a66b-76e097eb56f8"
      },
      "source": [
        "!./run.sh --stage 1 --stop-stage 1"
      ],
      "execution_count": null,
      "outputs": [
        {
          "output_type": "stream",
          "text": [
            "stage 1: Feature Generation\n",
            "../../../tools/kaldi/egs/wsj/s5/steps/make_fbank_pitch.sh --cmd run.pl --nj 8 --write_utt2num_frames true data/test exp/make_fbank/test fbank\n",
            "../../../tools/kaldi/egs/wsj/s5/steps/make_fbank_pitch.sh: moving data/test/feats.scp to data/test/.backup\n",
            "utils/validate_data_dir.sh: Successfully validated data-directory data/test\n",
            "../../../tools/kaldi/egs/wsj/s5/steps/make_fbank_pitch.sh: [info]: no segments file exists: assuming wav.scp indexed by utterance.\n",
            "../../../tools/kaldi/egs/wsj/s5/steps/make_fbank_pitch.sh: Succeeded creating filterbank and pitch features for test\n",
            "fix_data_dir.sh: kept all 3040 utterances.\n",
            "fix_data_dir.sh: old files are kept in data/test/.backup\n",
            "../../../tools/kaldi/egs/wsj/s5/steps/make_fbank_pitch.sh --cmd run.pl --nj 8 --write_utt2num_frames true data/train exp/make_fbank/train fbank\n",
            "../../../tools/kaldi/egs/wsj/s5/steps/make_fbank_pitch.sh: moving data/train/feats.scp to data/train/.backup\n",
            "utils/validate_data_dir.sh: Successfully validated data-directory data/train\n",
            "../../../tools/kaldi/egs/wsj/s5/steps/make_fbank_pitch.sh: [info]: no segments file exists: assuming wav.scp indexed by utterance.\n",
            "../../../tools/kaldi/egs/wsj/s5/steps/make_fbank_pitch.sh: Succeeded creating filterbank and pitch features for train\n",
            "fix_data_dir.sh: kept all 44882 utterances.\n",
            "fix_data_dir.sh: old files are kept in data/train/.backup\n",
            "../../../tools/kaldi/egs/wsj/s5/utils/subset_data_dir.sh: reducing #utt from 44882 to 100\n",
            "../../../tools/kaldi/egs/wsj/s5/utils/subset_data_dir.sh: reducing #utt from 44882 to 44782\n",
            "compute-cmvn-stats scp:data/train_nodev/feats.scp data/train_nodev/cmvn.ark \n",
            "LOG (compute-cmvn-stats[5.5.428~1-29b3]:main():compute-cmvn-stats.cc:168) Wrote global CMVN stats to data/train_nodev/cmvn.ark\n",
            "LOG (compute-cmvn-stats[5.5.428~1-29b3]:main():compute-cmvn-stats.cc:171) Done accumulating CMVN stats for 44782 utterances; 0 had errors.\n",
            "/content/espnet/egs/telugu/asr1/../../../utils/dump.sh --cmd run.pl --nj 8 --do_delta false data/train_nodev/feats.scp data/train_nodev/cmvn.ark exp/dump_feats/train /content/espnet/egs/telugu/filterbank/train_nodev/deltafalse\n",
            "/content/espnet/egs/telugu/asr1/../../../utils/dump.sh --cmd run.pl --nj 8 --do_delta false data/train_dev/feats.scp data/train_nodev/cmvn.ark exp/dump_feats/dev /content/espnet/egs/telugu/filterbank/train_dev/deltafalse\n",
            "/content/espnet/egs/telugu/asr1/../../../utils/dump.sh --cmd run.pl --nj 8 --do_delta false data/train_dev/feats.scp data/train_nodev/cmvn.ark exp/dump_feats/recog/train_dev /content/espnet/egs/telugu/filterbank/train_dev/deltafalse\n",
            "/content/espnet/egs/telugu/asr1/../../../utils/dump.sh --cmd run.pl --nj 8 --do_delta false data/test/feats.scp data/train_nodev/cmvn.ark exp/dump_feats/recog/test /content/espnet/egs/telugu/filterbank/test/deltafalse\n",
            "dictionary: data/lang_1char/train_nodev_units.txt\n",
            "stage 4 completed\n"
          ],
          "name": "stdout"
        }
      ]
    },
    {
      "cell_type": "code",
      "metadata": {
        "id": "ZeNxLmE-X_eE",
        "colab_type": "code",
        "colab": {
          "base_uri": "https://localhost:8080/",
          "height": 248
        },
        "outputId": "f2905060-6dcc-44a2-fe3b-3ac0179c03f5"
      },
      "source": [
        "!./run.sh --stage 2 --stop-stage 2"
      ],
      "execution_count": null,
      "outputs": [
        {
          "output_type": "stream",
          "text": [
            "dictionary: data/lang_1char/train_nodev_units.txt\n",
            "stage 2: Dictionary and Json Data Preparation\n",
            "26 data/lang_1char/train_nodev_units.txt\n",
            "/content/espnet/egs/telugu/asr1/../../../utils/data2json.sh --feat /content/espnet/egs/telugu/filterbank/train_nodev/deltafalse/feats.scp data/train_nodev data/lang_1char/train_nodev_units.txt\n",
            "/content/espnet/egs/telugu/asr1/../../../utils/feat_to_shape.sh --cmd run.pl --nj 1 --filetype  --preprocess-conf  --verbose 0 /content/espnet/egs/telugu/filterbank/train_nodev/deltafalse/feats.scp data/train_nodev/tmp-VOfSv/input_1/shape.scp\n",
            "/content/espnet/egs/telugu/asr1/../../../utils/data2json.sh --feat /content/espnet/egs/telugu/filterbank/train_dev/deltafalse/feats.scp data/train_dev data/lang_1char/train_nodev_units.txt\n",
            "/content/espnet/egs/telugu/asr1/../../../utils/feat_to_shape.sh --cmd run.pl --nj 1 --filetype  --preprocess-conf  --verbose 0 /content/espnet/egs/telugu/filterbank/train_dev/deltafalse/feats.scp data/train_dev/tmp-x2hPh/input_1/shape.scp\n",
            "/content/espnet/egs/telugu/asr1/../../../utils/data2json.sh --feat /content/espnet/egs/telugu/filterbank/train_dev/deltafalse/feats.scp data/train_dev data/lang_1char/train_nodev_units.txt\n",
            "/content/espnet/egs/telugu/asr1/../../../utils/feat_to_shape.sh --cmd run.pl --nj 1 --filetype  --preprocess-conf  --verbose 0 /content/espnet/egs/telugu/filterbank/train_dev/deltafalse/feats.scp data/train_dev/tmp-Dtv3X/input_1/shape.scp\n",
            "/content/espnet/egs/telugu/asr1/../../../utils/data2json.sh --feat /content/espnet/egs/telugu/filterbank/test/deltafalse/feats.scp data/test data/lang_1char/train_nodev_units.txt\n",
            "/content/espnet/egs/telugu/asr1/../../../utils/feat_to_shape.sh --cmd run.pl --nj 1 --filetype  --preprocess-conf  --verbose 0 /content/espnet/egs/telugu/filterbank/test/deltafalse/feats.scp data/test/tmp-ukb6m/input_1/shape.scp\n",
            "stage 4 completed\n"
          ],
          "name": "stdout"
        }
      ]
    },
    {
      "cell_type": "code",
      "metadata": {
        "id": "B7-RYhjrYVCV",
        "colab_type": "code",
        "colab": {
          "base_uri": "https://localhost:8080/",
          "height": 87
        },
        "outputId": "1da2df25-7806-4197-8b8c-c6faf4287edd"
      },
      "source": [
        "!./run.sh  --ngpu 1 --stage 3 --stop-stage 3"
      ],
      "execution_count": null,
      "outputs": [
        {
          "output_type": "stream",
          "text": [
            "dictionary: data/lang_1char/train_nodev_units.txt\n",
            "stage 3: LM Preparation\n",
            "WARNING:root:OOV rate = 75.40 %\n",
            "stage 4 completed\n"
          ],
          "name": "stdout"
        }
      ]
    },
    {
      "cell_type": "code",
      "metadata": {
        "id": "p9GNh5iWZA3p",
        "colab_type": "code",
        "colab": {
          "base_uri": "https://localhost:8080/",
          "height": 52
        },
        "outputId": "40ee24cb-c90a-40bc-ce1b-51a9a64bc4cf"
      },
      "source": [
        "!cat exp/train_rnnlm_chainer_false/train.log | grep perplexity"
      ],
      "execution_count": null,
      "outputs": [
        {
          "output_type": "stream",
          "text": [
            "epoch       iteration   perplexity  val_perplexity  elapsed_time\n",
            "2020-07-09 04:50:50,831 (lm:486) INFO: test perplexity: 3.7207740274012076\n"
          ],
          "name": "stdout"
        }
      ]
    },
    {
      "cell_type": "code",
      "metadata": {
        "id": "xPzX-6HDZCwe",
        "colab_type": "code",
        "colab": {
          "base_uri": "https://localhost:8080/",
          "height": 653
        },
        "outputId": "8724123b-995b-4f4e-a6d9-0ea4726c0348"
      },
      "source": [
        "!cat /content/espnet/egs/telugu/asr1/conf/train_mtlalpha0.5.yaml"
      ],
      "execution_count": null,
      "outputs": [
        {
          "output_type": "stream",
          "text": [
            "# minibatch related\n",
            "batch-size: 30\n",
            "maxlen-in: 800  # if input length  > maxlen_in, batchsize is automatically reduced\n",
            "maxlen-out: 150 # if output length > maxlen_out, batchsize is automatically reduced\n",
            "# optimization related\n",
            "sortagrad: 0 # Feed samples from shortest to longest ; -1: enabled for all epochs, 0: disabled, other: enabled for 'other' epochs\n",
            "opt: adadelta\n",
            "epochs: 100\n",
            "patience: 3\n",
            "\n",
            "# scheduled sampling option\n",
            "sampling-probability: 0.0\n",
            "\n",
            "# encoder related\n",
            "etype: blstmp     # encoder architecture type\n",
            "elayers: 4\n",
            "eunits: 320\n",
            "eprojs: 320\n",
            "subsample: \"1_2_2_1_1\" # skip every n frame from input to nth layers\n",
            "# decoder related\n",
            "dlayers: 1\n",
            "dunits: 300\n",
            "# attention related\n",
            "atype: location\n",
            "adim: 320\n",
            "aconv-chans: 10\n",
            "aconv-filts: 100\n",
            "\n",
            "# hybrid CTC/attention\n",
            "mtlalpha: 0.5\n",
            "\n",
            "\n",
            "# Report CER & WER\n",
            "report-cer: true\n",
            "report-wer: true\n"
          ],
          "name": "stdout"
        }
      ]
    },
    {
      "cell_type": "code",
      "metadata": {
        "id": "3ElUbdXXaFqp",
        "colab_type": "code",
        "colab": {
          "base_uri": "https://localhost:8080/",
          "height": 70
        },
        "outputId": "06c780f0-48e1-4648-8af1-57c2ef424ffd"
      },
      "source": [
        "!./run.sh  --ngpu 1 --stage 4 --stop-stage 4 --train-config conf/train_mtlalpha0.5.yaml"
      ],
      "execution_count": null,
      "outputs": [
        {
          "output_type": "stream",
          "text": [
            "dictionary: data/lang_1char/train_nodev_units.txt\n",
            "stage 4: Network Training\n",
            "stage 4 completed\n"
          ],
          "name": "stdout"
        }
      ]
    },
    {
      "cell_type": "code",
      "metadata": {
        "id": "6g-PFzNrleqE",
        "colab_type": "code",
        "colab": {
          "base_uri": "https://localhost:8080/",
          "height": 389
        },
        "outputId": "203aec7a-8d2c-4e84-e34d-0d24f5179d2a"
      },
      "source": [
        "!grep -e groundtruth -e prediction exp/train_nodev_chainer_train_mtlalpha0.5/train.log \\\n",
        "  | sed -e 's/<eos>//g' -e 's/<space>/ /g' | head -n 20"
      ],
      "execution_count": null,
      "outputs": [
        {
          "output_type": "stream",
          "text": [
            "2020-07-09 04:51:20,573 (decoders:208) INFO: groundtruth[0]: SHUKRAWAARAQ UDAYAQ MAADXUGULA NIYOOJAKA WARGAQLOO WIWIDHA KAARYAAKRAMAALAKU HAAJARAINA MAQTRI AYYANNA PAATRUDXU MAATXLAADXUTUU MAQTRI GAQTXAA SHRIINIWAASARAAWUPAI PAROOKSHHAQGAA TIIWRA WIMARSHALU CEESHAARU\n",
            "2020-07-09 04:51:20,573 (decoders:209) INFO: prediction [0]: SSSXMLMXMMMML<blank>MTMLML<blank>HMMWXXXXXXKRTTWWR<blank><blank><blank><blank><blank><blank><blank>PPLWWWGGRIYYYWGUMMMMMMMMMMMM<blank>MMMIWMM<blank><blank><blank>MPMM<blank>KMWMDDIPTTPMMMEBMMMMXTLXKHMMXXKXMXXXXXXXHPLXPPTPPPXXMMEMXKTTTTKWMMMMMMMMWXPI<blank>WPWWIYUWMWUMMIMPTKTPIKTJWPJDMKKKKSSSSPMMM\n",
            "2020-07-09 04:51:20,580 (decoders:208) INFO: groundtruth[1]: BRAHMOOTSAWAALAKU AQKURAARPANXA ANAQTARAQ NAIRUTI MUULALOO UNNA WASAQTA MAQDXAPAANIKI CEERUKUNI BHUUMI PUUJA MRXTSYAQGRAHANXAQ CEESI PRADAKSHHANXAQGAA AALAYAQLOOKI PRAWEESHIQCAARU\n",
            "2020-07-09 04:51:20,580 (decoders:209) INFO: prediction [1]: SSJMWHWWYYPMMM<blank>MMMGMLMLMMMMBMMMMMMMMMMMMML<blank>DMMMMTTTHTTK<blank>KKWRRRRMRGMMMMMMMHMLDLMMMMMMMTT<blank>PPPTMLTTTTTTTHTKTTT<blank><blank><blank>HPHQHYPPPPPXMMMMMMMSSSTSTTMTMMMUUMMMMMMMMMMM<blank>MMMLWWWWTIYTGIPPSSTWXPMMM\n",
            "2020-07-09 04:51:20,587 (decoders:208) INFO: groundtruth[2]: GATA JANMABHUUMILOONI DARAKHAA STULANU PARISHHKARIQCAKA POOWADXAQPAI DEEWARAAPALLI RAAWIKA MATAQ AANAQDAPURAQ MAQDXALAALLOONI PALU GRAAMAALLOO JARIGINA JANMABHUUMI KAARYA KRAMAALLOO LABDHIDAARULU ADHIKAARULANU NILADIISHAARU\n",
            "2020-07-09 04:51:20,587 (decoders:209) INFO: prediction [2]: SSMMMGI<blank><blank>H<blank><blank>W<blank>XHTKKWYRKYTLMMWMMMMMXXXMXK<blank><blank>NTTTWXMMTL<blank>MMMIBIWWGYLMLDMMIDKPWMPMM<blank>M<blank>XKKKPM<blank>WTM<blank>HMQMLGMMMMWDMBW<blank>MLGHMLLLMKMMXKKWRRRWMNKKKKMMMMMXKKWUR<blank>PPPRMEI<blank><blank>QM<blank>W<blank>THTKTMMPMM<blank>EDMHMM<blank>KWWURNUYUUYTMPLKKKKKTTTMMPMXXMNKVTTNTTTTTXMPM\n",
            "2020-07-09 04:51:20,595 (decoders:208) INFO: groundtruth[3]: II SAQDARBHAQGAA EMALEEY BODXDXU NAAGEESHWARARAAWU MAATXLAADXUTUU RAAJYAAQGA WIRUDDHAQGAA JIIWOOLU WIDXUDALA CEESTUNNA PRABHUTWAMEE WAATXINI KACCITAQGAA AMALU CEEYAALANEE PEERUTOO PRAJALANU MOOSAQ CEESTOOQDANNAARU\n",
            "2020-07-09 04:51:20,595 (decoders:209) INFO: prediction [3]: SRTIKPLLMLLUMLUMMWPMM<blank>PPSSSUYLYLLVVMMMMPMSWM<blank>MPMMMM<blank>G<blank>MMXKXMXXXXXXXKPPPP<blank><blank>PPM<blank>WWPTTTTTLLMM<blank>IPTTTTR<blank>KKRYLLVLXMK<blank>PPSSXMMMMMBM<blank>UTTXXHPPKK<blank><blank>MXPMTTTM<blank><blank>TTPPIP<blank><blank><blank>H<blank><blank>KK<blank>SSSPM<blank>MMMMSMSSSSXTTGRTPPP<blank><blank>R<blank>KHWWYMLG<blank>SSSSMULYMMMMMMM\n",
            "2020-07-09 04:51:20,601 (decoders:208) INFO: groundtruth[4]: RILAYANS KAMYUUNIKEESHHAN II NEEPATHYAQLOO WACCEE EEDXAADI BHAARATA TXELIKAAQ RAQGAQLOO WILIINAALU MARIQTA JOORUGAA UUPAQDUKUQTXAAYANI TXEK WISHHAYAALAKU BHAAWISTUNNAARU\n",
            "2020-07-09 04:51:20,601 (decoders:209) INFO: prediction [4]: SSTCKLXMMKEMHMLXXTMSSSSWMMMTTKKKKTMXXSMLXWWUUG<blank><blank><blank>PISSYKMMLTKKTMMPMMM<blank>XXKKPPPPLRDPLUMLWWWGGYYRYYWM<blank>KKKMKKLXPKIIULG<blank>MG<blank>TIXPLXXLLXXXMMMMMTTKKPRKTYYYWKMMXMMX<blank><blank>UMMXWXXXXCMMMM\n",
            "2020-07-09 04:51:25,077 (decoders:208) INFO: groundtruth[0]: AAYURWEEDAQLOO WEEPAPRASHASTIGURIQCI SUDIIRGHAQGAA WUNNA CARCA GURIQCI EE MAATRAQ TELIYAKUQDXAANEE LAKSHHALAADI MAQDI BHAARATIIYULU WEEPANU TAMADAINAQDINA JIIWITAQLOO WISTAARAQGAA UPAYOOGIQCEE WISHHAYAQ TELISIQDEE\n",
            "2020-07-09 04:51:25,077 (decoders:209) INFO: prediction [0]: SMMMLLXLLLLLXWWUILSPPAAAAUAAUPIXKTL PIEKTYTTTTILIIAIIIAAAI<blank><blank><blank><blank><blank>IIIIIL TIISIIPNQNNLGDSNPYPPLLLLLMMMMIKNMDDUUKKMAKKKALADIUUUAANMPPTTKKKKKPPPARKXNHNANPAALDLDMIIITITTTLKWWG RJDPPPPLGGAIIIAAAAGIL PSIIIDDWWUMLAASKKYYYYLS\n",
            "2020-07-09 04:51:25,084 (decoders:208) INFO: groundtruth[1]: WIDYUT WINIYOOGAQ PAI PUURTI AADHAARAQ PADXI PRAJAANIIYAKAQ KAREQTXU CHAARJIILU TADXICI MOOPEDXAWUTUNNAPPATXIKI KIKKURUMANAKUQDXAA CELLIQCAARU\n",
            "2020-07-09 04:51:25,084 (decoders:209) INFO: prediction [1]: SIRYYLXKKRIRTWWIWLIIAIIAIITXTIPPAWAAAALAAAAALIAAAAAAADDTAMMLAAAAPLDDLK WPPPAPPTKKINKLLRRIHWWIIRLLXXXXXCNIAAAIRPTIIPPELLLHLGNMLLLLLMMMPNKKP  PPN\n",
            "2020-07-09 04:51:25,090 (decoders:208) INFO: groundtruth[2]: KAAGALA KAARYAQ GAQDHARWULEE CEESTAANANI TAANU MAATRAQ II WISHHAYAQLOO MAUNAQGAA UQDXA DALACUKUNNAANANI CIRAQJIIWI SAQKEETAALU ISTUNNAARU\n",
            "2020-07-09 04:51:25,090 (decoders:209) INFO: prediction [2]: SMMMMM<blank>NAAAMAAALAIALAUAUALKKPKKSSSSPPMMMIIINNANKNNNQNNLGDDIIIJYYWJALAWWAGGGAMLGMMAMLLLLAANAN<blank>NXLAANMMMMMIMTTNLAIIIIIJPLLLLMPPNNKKKXXYANNMN\n",
            "2020-07-09 04:51:25,097 (decoders:208) INFO: groundtruth[3]: WIBHAJANA WALLA RAAYALASIIMA UTTARAAQDHRA JILLAALAKU TIIWRA NASHHTXAQ WAATXILLOO TOOQDANI MAAJII MAQTRI AANAQ NAARAAYANXA RAAMANAARAAYANXAREDXDXI WIMARSHIQCAARU\n",
            "2020-07-09 04:51:25,097 (decoders:209) INFO: prediction [3]: SIRJWW<blank><blank>AA<blank>I<blank><blank>KNKAN<blank>AAAAAKPPPKKXXPNPPLLWUDAAIKKNNANALKQDPIKNIAADDWUUMLAAAAQADKKKKGRUU RRRRIDNAAIIIKALQADIPPAALAAAAANMAAAAMAANMMAAAMMMMAAAAMMMLLLLLVKTQLPKDDL PMPL\n",
            "2020-07-09 04:51:25,104 (decoders:208) INFO: groundtruth[4]: PRATYEEKA PRADHAANA KAARYADARLXULU MUKHYA KAARYADARSHULU KAARYADARSHULU WIDHAQGAA SHAAKHALOO ADHIPATYAQLOO MAQGALXAWAARAQ CAQDRABAABU WISTRXTA STHAAYI SAMAASHAQLOO NIRWAHIQCAARU\n",
            "2020-07-09 04:51:25,104 (decoders:209) INFO: prediction [4]: SHBNXASSSPSBAAAUAAAAAAAMAAAAAAAALKKKKKXWYAKUAMAAAAAAAUXKKKENMPAAANAAUXKKKKKYYTLLAAAAUAAMDMAAUAAAUUAAXAALAAWUGGLGGAKMIMMMMLG <blank>LDLDUMMUMAIIDXDIXPEEXUPPAPIEPHAAHAMLAWWUARDIGWIL  MML\n"
          ],
          "name": "stdout"
        }
      ]
    },
    {
      "cell_type": "code",
      "metadata": {
        "id": "mw3wp5aYmsjJ",
        "colab_type": "code",
        "colab": {
          "base_uri": "https://localhost:8080/",
          "height": 389
        },
        "outputId": "5815d316-9820-4eb9-b0aa-5f8fad6305f6"
      },
      "source": [
        "!grep -e groundtruth -e prediction exp/train_nodev_chainer_train_mtlalpha0.5/train.log \\\n",
        "  | sed -e 's/<eos>//g' -e 's/<space>/ /g' | tail -n 20"
      ],
      "execution_count": null,
      "outputs": [
        {
          "output_type": "stream",
          "text": [
            "2020-07-09 05:05:54,121 (decoders:208) INFO: groundtruth[0]: RUNXAMAAPHII WISHHAYAQLOO INNI KASHHTXAALU UQTXAAYANI CAQDRABAABU UUHIQCEE UUHIQCI UQDXANANNAARU\n",
            "2020-07-09 05:05:54,121 (decoders:209) INFO: prediction [0]: AAKNA AA AA  PASHHAAAA OO AIAA WAAHHAXAA A PNDXUA ANI PEADXAAAA U WNDA CAE PDDA CA CDDXAAA IA  U\n",
            "2020-07-09 05:05:54,124 (decoders:208) INFO: groundtruth[1]: MARNAADXU MADHYAAHNAQ WEELXAKI RAAJAAWAARI KOOTXAKI CEERUKUNNAADXU AYOOMAYAQ\n",
            "2020-07-09 05:05:54,124 (decoders:209) INFO: prediction [1]: AAAAA  XU PAAXAAALAA  AAESAA U PAASAALAALA PAODXI U PEESA U NAARXU PAAO AAA  \n",
            "2020-07-09 05:05:54,127 (decoders:208) INFO: groundtruth[2]: AQDUKEE AAYANA TXEKKALIKI CAALAA MUQDUGAANEE TANA ABHYARTHINI PRAKATXIQCAARU\n",
            "2020-07-09 05:05:54,127 (decoders:209) INFO: prediction [2]: ARDX UE PARANA WAIEAA A I PEARAN PAQDX AA IE PAAA WAHAAAAAA A PAAAAAXI CIARU\n",
            "2020-07-09 05:05:54,131 (decoders:208) INFO: groundtruth[3]: MIGATAA WAARU SIKKULU JAINULU BAUDDHULU ITARA MATASTHULU MATAANNI WELLADXIQCA WELLADXIQCANI WAARU\n",
            "2020-07-09 05:05:54,131 (decoders:209) INFO: prediction [3]: AASAAX  WAARA PAQAA A WAALA U WAADXAA U PIAAAASAAXNHUALU PAAXNLIA PAEAAAXU CIAPAEAAAXU CIAA PAARA \n",
            "2020-07-09 05:05:54,134 (decoders:208) INFO: groundtruth[4]: IQDUKU WYATIREEKAQGAA DALXITA PRAJALA SAQGHAALU AIKYAQGAA UDYAMIQCAALANI PILUPUNICCAARU\n",
            "2020-07-09 05:05:54,135 (decoders:209) INFO: prediction [4]: ASCX U PAAAXKAE U  AA AAAAA X PAAAAAA PAADAAA A PASAAA AA SNXAAA CIARU I PAIA A N AAARU\n",
            "2020-07-09 05:05:54,386 (decoders:208) INFO: groundtruth[0]: ANUSHHA TAQDXRI NARSAYYA KONNEELXLA KRITAQ ANAAROOGYAQTOO MRXTI CEQDAADXU\n",
            "2020-07-09 05:05:54,386 (decoders:209) INFO: prediction [0]: ARA HAAAKAADXAA PIAAHAAAASAOAAE UAU PAASXA PAIARUO AAA XO AAATXIPEEDXARXU \n",
            "2020-07-09 05:05:54,389 (decoders:208) INFO: groundtruth[1]: AKKADXIKI TIISUKELXLI TARWAATA WYABHICAARA GRXHAALAKU WAARINI AMMEESTAARU\n",
            "2020-07-09 05:05:54,389 (decoders:209) INFO: prediction [1]: ARAAAXA A PAI H UEAAA PAAAAALX WAAAHAKAARUNWAAAAALA U PAARA A PAAAESHUA U\n",
            "2020-07-09 05:05:54,392 (decoders:208) INFO: groundtruth[2]: II SAQDARBHAQGAA RYAALIIKI ANUMATI ICCEEQDUKU SIDDHAQGAA UNNAAMANI\n",
            "2020-07-09 05:05:54,392 (decoders:209) INFO: prediction [2]: AS WAADAAAHAA AA AAAALA  I PAA AAX PIIIESDX U PAQHAAA AA ANNAARANI \n",
            "2020-07-09 05:05:54,395 (decoders:208) INFO: groundtruth[3]: KOOHLII RAINAA SHIKHAR DHAAWAN BYAATXIQG KU SHHAMII BAULIQG SUUPAR ANNAADXU\n",
            "2020-07-09 05:05:54,395 (decoders:209) INFO: prediction [3]: AAO AA  PAASA  SAATAAAAAAAARAAAAHAALXL CAAADWAAAAAK CHALU CAAAQDAAAAAAAARXU \n",
            "2020-07-09 05:05:54,398 (decoders:208) INFO: groundtruth[4]: MARIKOQDARU KUUDXAA CEEREEQDUKU SIDDHAQGAA UNNATXLU WAARTALU WASTUNNAAYI\n",
            "2020-07-09 05:05:54,398 (decoders:209) INFO: prediction [4]: AAAASIODX APADDXAA PEESUESDX U PAQHHAA AA ANNAAXUA WAARIXAA PAAHANNAARA \n"
          ],
          "name": "stdout"
        }
      ]
    },
    {
      "cell_type": "code",
      "metadata": {
        "scrolled": true,
        "id": "YF9Nu7OeuS4r",
        "colab_type": "code",
        "colab": {
          "base_uri": "https://localhost:8080/",
          "height": 316
        },
        "outputId": "af796567-541f-4898-c93c-78a025e2595c"
      },
      "source": [
        "import glob\n",
        "from IPython.display import Image, display_png\n",
        "expdir = \"exp/train_nodev_chainer_train_mtlalpha0.5/results/\"\n",
        "for name in [\"acc.png\"]:\n",
        "    print(name)\n",
        "    display_png(Image(expdir + name, width=500))"
      ],
      "execution_count": null,
      "outputs": [
        {
          "output_type": "stream",
          "text": [
            "acc.png\n"
          ],
          "name": "stdout"
        },
        {
          "output_type": "display_data",
          "data": {
            "image/png": "[encoded data removed]"
          },
          "metadata": {
            "tags": [],
            "image/png": {
              "width": 500
            }
          }
        }
      ]
    },
    {
      "cell_type": "code",
      "metadata": {
        "id": "Yg2PcSzMnbHk",
        "colab_type": "code",
        "colab": {
          "base_uri": "https://localhost:8080/",
          "height": 140
        },
        "outputId": "290d3826-4864-4763-f960-8144777e81d5"
      },
      "source": [
        "!cat conf/decode_ctcweight0.5.yaml"
      ],
      "execution_count": null,
      "outputs": [
        {
          "output_type": "stream",
          "text": [
            "# decoding parameter\n",
            "beam-size: 20\n",
            "penalty: 0.0\n",
            "maxlenratio: 0.0\n",
            "minlenratio: 0.0\n",
            "ctc-weight: 0.5\n",
            "lm-weight: 1.0\n"
          ],
          "name": "stdout"
        }
      ]
    },
    {
      "cell_type": "code",
      "metadata": {
        "colab_type": "code",
        "id": "R-NBPjKeRGdF",
        "scrolled": true,
        "colab": {
          "base_uri": "https://localhost:8080/",
          "height": 266
        },
        "outputId": "1a412ace-9d25-488b-d47e-7d9d9a2a9bef"
      },
      "source": [
        "# WARNING: This code takes 6 minutes!\n",
        "# Only recognize the test set\n",
        "!sed -i.bak -e's/recog_set=\"train_dev test\"/recog_set=\"test\"/' run.sh\n",
        "# run the actual recognition script\n",
        "!./run.sh --stage 5 --decode-config conf/decode_ctcweight0.5.yaml --train-config conf/train_mtlalpha0.5.yaml"
      ],
      "execution_count": null,
      "outputs": [
        {
          "output_type": "stream",
          "text": [
            "dictionary: data/lang_1char/train_nodev_units.txt\n",
            "stage 4 completed\n",
            "stage 5: Decoding\n",
            "2020-07-09 05:06:16,196 (splitjson:43) INFO: /usr/bin/python3 /content/espnet/egs/telugu/asr1/../../../utils/splitjson.py --parts 8 /content/espnet/egs/telugu/filterbank/test/deltafalse/data.json\n",
            "2020-07-09 05:06:16,337 (splitjson:55) INFO: number of utterances = 3040\n",
            "2020-07-09 13:27:45,278 (concatjson:36) INFO: /usr/bin/python3 /content/espnet/egs/telugu/asr1/../../../utils/concatjson.py exp/train_nodev_chainer_train_mtlalpha0.5/decode_test_decode_ctcweight0.5_false/data.1.json exp/train_nodev_chainer_train_mtlalpha0.5/decode_test_decode_ctcweight0.5_false/data.2.json exp/train_nodev_chainer_train_mtlalpha0.5/decode_test_decode_ctcweight0.5_false/data.3.json exp/train_nodev_chainer_train_mtlalpha0.5/decode_test_decode_ctcweight0.5_false/data.4.json exp/train_nodev_chainer_train_mtlalpha0.5/decode_test_decode_ctcweight0.5_false/data.5.json exp/train_nodev_chainer_train_mtlalpha0.5/decode_test_decode_ctcweight0.5_false/data.6.json exp/train_nodev_chainer_train_mtlalpha0.5/decode_test_decode_ctcweight0.5_false/data.7.json exp/train_nodev_chainer_train_mtlalpha0.5/decode_test_decode_ctcweight0.5_false/data.8.json\n",
            "2020-07-09 13:27:45,301 (concatjson:46) INFO: new json has 3040 utterances\n",
            "2020-07-09 13:27:45,728 (json2trn:44) INFO: /usr/bin/python3 /content/espnet/egs/telugu/asr1/../../../utils/json2trn.py exp/train_nodev_chainer_train_mtlalpha0.5/decode_test_decode_ctcweight0.5_false/data.json data/lang_1char/train_nodev_units.txt --num-spkrs 1 --refs exp/train_nodev_chainer_train_mtlalpha0.5/decode_test_decode_ctcweight0.5_false/ref.trn --hyps exp/train_nodev_chainer_train_mtlalpha0.5/decode_test_decode_ctcweight0.5_false/hyp.trn\n",
            "2020-07-09 13:27:45,728 (json2trn:46) INFO: reading exp/train_nodev_chainer_train_mtlalpha0.5/decode_test_decode_ctcweight0.5_false/data.json\n",
            "2020-07-09 13:27:45,752 (json2trn:50) INFO: reading data/lang_1char/train_nodev_units.txt\n",
            "write a CER (or TER) result in exp/train_nodev_chainer_train_mtlalpha0.5/decode_test_decode_ctcweight0.5_false/result.txt\n",
            "|  SPKR       |  # Snt   # Wrd   |  Corr      Sub      Del      Ins       Err    S.Err  |\n",
            "|  Sum/Avg    |  3040    288739  |  34.4     28.8     36.8      5.5      71.1    100.0  |\n"
          ],
          "name": "stdout"
        }
      ]
    },
    {
      "cell_type": "code",
      "metadata": {
        "id": "1ZlJ58nxymi9",
        "colab_type": "code",
        "colab": {}
      },
      "source": [
        ""
      ],
      "execution_count": null,
      "outputs": []
    },
    {
      "cell_type": "markdown",
      "metadata": {
        "id": "Tgr7bevm0S92",
        "colab_type": "text"
      },
      "source": [
        "!zip -r filterbank.zip /content/espnet/egs/telugu/filterbank/"
      ]
    },
    {
      "cell_type": "code",
      "metadata": {
        "id": "TtomKBpsw0CK",
        "colab_type": "code",
        "colab": {}
      },
      "source": [
        "!zip -r exp.zip /content/espnet/egs/telugu/asr1/exp"
      ],
      "execution_count": null,
      "outputs": []
    },
    {
      "cell_type": "code",
      "metadata": {
        "id": "pbFfvvP0yowZ",
        "colab_type": "code",
        "colab": {}
      },
      "source": [
        "!cp /content/espnet/egs/telugu/asr1/exp.zip \"/content/drive/My Drive/telugu/\""
      ],
      "execution_count": null,
      "outputs": []
    }
  ]
}